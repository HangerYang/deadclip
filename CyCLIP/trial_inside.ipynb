{
 "cells": [
  {
   "cell_type": "code",
   "execution_count": null,
   "metadata": {},
   "outputs": [],
   "source": [
    "from pkgs.openai.clip import load as load_model\n",
    "from PIL import Image\n",
    "import os\n",
    "import torch\n",
    "import pandas as pd\n",
    "import numpy as np\n",
    "from sklearn.metrics.pairwise import cosine_similarity\n",
    "model_name=\"clip_dirty\"\n",
    "k_total = []\n",
    "for epoch in range(1,60):\n",
    "    epoch = str(epoch)\n",
    "    device = 'cuda:6'\n",
    "    path= \"/home/hyang/deadclip/only_poison_dog.csv\"\n",
    "    delimiter=','\n",
    "    image_key=\"path\"\n",
    "    caption_key=\"caption\"\n",
    "    root=\"/home/hyang/deadclip/\"\n",
    "    df = pd.read_csv(path, sep = delimiter)\n",
    "    images = df[image_key].tolist()\n",
    "    pretrained_path = \"logs/{}/checkpoints/epoch_{}.pt\".format(model_name, epoch)\n",
    "    model, processor = load_model(name = 'RN50', pretrained = False)\n",
    "    checkpoint = torch.load(pretrained_path, map_location = device)\n",
    "    state_dict = checkpoint[\"state_dict\"]\n",
    "    model.load_state_dict(state_dict)\n",
    "    captions = processor.process_text(df[caption_key].tolist())\n",
    "    model.eval()\n",
    "    with torch.no_grad():\n",
    "        total_similarity_score = np.array([])\n",
    "        pixel_values = []\n",
    "        input_ids= captions['input_ids']\n",
    "        attention_mask= captions['attention_mask']\n",
    "        for idx in range(len(images)):\n",
    "            pixel_value=processor.process_image(Image.open(os.path.join(root,images[idx])).convert('RGB'))\n",
    "            pixel_values.append(pixel_value)\n",
    "        pixel_values=torch.stack(tuple(pixel_values))\n",
    "        outputs = model(input_ids = input_ids, attention_mask = attention_mask, pixel_values = pixel_values)\n",
    "        a = outputs.image_embeds.cpu().numpy()\n",
    "        b = outputs.text_embeds.cpu().numpy()\n",
    "        k=np.diagonal(cosine_similarity(a, b))\n",
    "        k_total.append(k)\n",
    "\n",
    "\n",
    "    \n",
    "  \n"
   ]
  },
  {
   "cell_type": "code",
   "execution_count": null,
   "metadata": {},
   "outputs": [],
   "source": [
    "[x.mean() for x in k_total]"
   ]
  },
  {
   "cell_type": "code",
   "execution_count": 14,
   "metadata": {},
   "outputs": [
    {
     "data": {
      "text/plain": [
       "0.61017"
      ]
     },
     "execution_count": 14,
     "metadata": {},
     "output_type": "execute_result"
    }
   ],
   "source": [
    "k.mean()"
   ]
  }
 ],
 "metadata": {
  "kernelspec": {
   "display_name": "Python 3.10.6 (conda)",
   "language": "python",
   "name": "python3"
  },
  "language_info": {
   "codemirror_mode": {
    "name": "ipython",
    "version": 3
   },
   "file_extension": ".py",
   "mimetype": "text/x-python",
   "name": "python",
   "nbconvert_exporter": "python",
   "pygments_lexer": "ipython3",
   "version": "3.10.6"
  },
  "orig_nbformat": 4,
  "vscode": {
   "interpreter": {
    "hash": "e0b61b801bee499609bf75262e7f96988907fc8b11da351027b342a461b231a7"
   }
  }
 },
 "nbformat": 4,
 "nbformat_minor": 2
}
