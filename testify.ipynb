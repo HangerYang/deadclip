{
 "cells": [
  {
   "cell_type": "code",
   "execution_count": 2,
   "metadata": {},
   "outputs": [],
   "source": [
    "with open(\"testify.sh\", \"w\") as wrt:\n",
    "    for epoch in [1,2,3,4, 5, 6, 7, 8, 9, 10, 15, 20]:\n",
    "        for model in [\"cyclip_poison_lambda1\", \"cyclip_poison_lambda1\"]:\n",
    "            wrt.write(\"python -m src.main --checkpoint logs/{}/checkpoints/epoch_{}.pt --eval_data_type CIFAR10 --eval_test_data_dir data/CIFAR10/test --device_id 7 --name {}-{}\\n\".format(model, epoch, model, epoch))\n",
    "\n"
   ]
  },
  {
   "cell_type": "code",
   "execution_count": 1,
   "metadata": {},
   "outputs": [],
   "source": [
    "with open(\"crucify.sh\", \"w\") as wrt:\n",
    "    for model in [\"cyclip_poison_strong_lambda1\",\"cyclip_poison_lambda1\", \"cyclip_poison_lambda2\", \"cyclip_poison.csv\", \"clip_poison.csv\"]:\n",
    "        for category in [\"deer\", \"airplane\"]:\n",
    "            for epoch in [6,7,8,9,10,11, 12, 13, 14, 15, 16, 17, 18, 19, 20]:\n",
    "                wrt.write(\"python tryme.py --model_name {} --target_category {} --device 7 --epoch {}\\n\".format(model, category, epoch))\n",
    "\n"
   ]
  },
  {
   "cell_type": "code",
   "execution_count": 12,
   "metadata": {},
   "outputs": [],
   "source": [
    "with open(\"verify.sh\", \"a\") as wrt:\n",
    "    for model in [\"clip_clean\"]:\n",
    "        for epoch in [1,5,10,15,20,24]:\n",
    "            wrt.write(\"python verify.py --path new_nothing_to_plane_image_clean --model_name {} --device 5 --epoch {} --target all_nothing --original plane --num 2 \\n\".format(model,epoch))"
   ]
  },
  {
   "cell_type": "code",
   "execution_count": null,
   "metadata": {},
   "outputs": [],
   "source": []
  },
  {
   "cell_type": "code",
   "execution_count": 1,
   "metadata": {},
   "outputs": [],
   "source": [
    "# with open(\"CyCLIP/run_2.sh\", \"a\") as wrt:\n",
    "#         for epoch in list(range(1,65)):\n",
    "#             wrt.write(\"python -m src.main --name clip_dirty_evaluate --train_data ../train.csv --validation_data ../valid.csv --image_key path --caption_key caption --device_id 4 --cylambda1 0.0 --cylambda2 0.0 --batch_size 128 --epoch {} --checkpoint /home/hyang/deadclip/CyCLIP/logs/clip_dirty/checkpoints/epoch_{}.pt --representation \\n\".format(epoch, epoch))"
   ]
  },
  {
   "cell_type": "code",
   "execution_count": 6,
   "metadata": {},
   "outputs": [],
   "source": [
    "with open(\"verify_text.sh\", \"w\") as wrt:\n",
    "    for model in [\"clip_poison\"]:\n",
    "        for epoch in range(1,65):\n",
    "            wrt.write(\"python verify_text.py --path original_nothing_to_plane_image_poison --model_name {} --device 2 --epoch {} --target plane --original nothing --num 2 \\n\".format(model,epoch))"
   ]
  }
 ],
 "metadata": {
  "kernelspec": {
   "display_name": "Python 3.10.6 (conda)",
   "language": "python",
   "name": "python3"
  },
  "language_info": {
   "codemirror_mode": {
    "name": "ipython",
    "version": 3
   },
   "file_extension": ".py",
   "mimetype": "text/x-python",
   "name": "python",
   "nbconvert_exporter": "python",
   "pygments_lexer": "ipython3",
   "version": "3.10.6"
  },
  "orig_nbformat": 4,
  "vscode": {
   "interpreter": {
    "hash": "e0b61b801bee499609bf75262e7f96988907fc8b11da351027b342a461b231a7"
   }
  }
 },
 "nbformat": 4,
 "nbformat_minor": 2
}
